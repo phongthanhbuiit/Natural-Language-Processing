{
 "cells": [
  {
   "cell_type": "code",
   "execution_count": 1,
   "metadata": {},
   "outputs": [
    {
     "name": "stdout",
     "output_type": "stream",
     "text": [
      "Ví dụ dữ liệu: \n",
      "  result                                               text\n",
      "0    ham                      Ok lar... Joking wif u oni...\n",
      "1   spam  Free entry in 2 a wkly comp to win FA Cup fina...\n",
      "2    ham  U dun say so early hor... U c already then say...\n",
      "3    ham  Nah I don't think he goes to usf, he lives aro...\n",
      "4   spam  FreeMsg Hey there darling it's been 3 week's n...\n"
     ]
    }
   ],
   "source": [
    "import pandas as pd \n",
    "import numpy as np \n",
    "import matplotlib.pyplot as plt \n",
    "\n",
    "from sklearn.feature_extraction.text import TfidfVectorizer\n",
    "from sklearn.linear_model.logistic import LogisticRegression\n",
    "from sklearn.model_selection import train_test_split, cross_val_score\n",
    "import warnings\n",
    "'''\n",
    "đọc file dữ liệu\n",
    "'''\n",
    "warnings.filterwarnings(\"ignore\", category=FutureWarning)\n",
    "sms = pd.read_csv('spam.csv', encoding='latin-1')\n",
    "sms = sms.drop(labels=[\"Unnamed: 2\", \"Unnamed: 3\", \"Unnamed: 4\"], axis=1)\n",
    "sms.columns = [\"result\", \"text\"]\n",
    "result = np.array(sms[\"result\"])\n",
    "text = np.array(sms[\"text\"])\n",
    "\n",
    "print(\"Ví dụ dữ liệu: \")\n",
    "print(sms.head())"
   ]
  },
  {
   "cell_type": "code",
   "execution_count": 2,
   "metadata": {},
   "outputs": [
    {
     "name": "stdout",
     "output_type": "stream",
     "text": [
      "Ví dụ dữ liệu X_train_raw: \n",
      "Just sleeping..and surfing\n",
      "No da..today also i forgot..\n",
      "Jesus christ bitch I'm trying to give you drugs answer your fucking phone\n",
      "Dunno he jus say go lido. Same time 930.\n",
      "Nothing really, just making sure everybody's up to speed\n",
      "Oops my phone died and I didn't even know. Yeah I like it better.\n",
      "Yes.. now only saw your message..\n",
      "<Forwarded from 448712404000>Please CALL 08712404000 immediately as there is an urgent message waiting for you.\n",
      "I am in hospital da. . I will return home in evening\n",
      "He says he'll give me a call when his friend's got the money but that he's definitely buying before the end of the week\n",
      "Ví dụ dữ liệu y_train: \n",
      "ham\n",
      "ham\n",
      "ham\n",
      "ham\n",
      "ham\n",
      "ham\n",
      "ham\n",
      "spam\n",
      "ham\n",
      "ham\n",
      "Ví dụ dữ liệu X_test_raw: \n",
      "I'm a guy, browsin is compulsory\n",
      "Wat so late still early mah. Or we juz go 4 dinner lor. Aiya i dunno...\n",
      "Ok. No wahala. Just remember that a friend in need ...\n",
      "WHO ARE YOU SEEING?\n",
      "I couldn't say no as he is a dying man and I feel sad for him so I will go and I just wanted you to know I would probably be gone late into your night\n",
      "What is this 'hex' place you talk of? Explain!\n",
      "ÌÏ log off 4 wat. It's sdryb8i\n",
      "He said i look pretty wif long hair wat. But i thk he's cutting quite short 4 me leh.\n",
      "soon you will have the real thing princess! Do i make you wet? :)\n",
      "Yes but I don't care cause I know its there!\n",
      "Ví dụ dữ liệu y_test: \n",
      "ham\n",
      "ham\n",
      "ham\n",
      "ham\n",
      "ham\n",
      "ham\n",
      "ham\n",
      "ham\n",
      "ham\n",
      "ham\n"
     ]
    }
   ],
   "source": [
    "\n",
    "X_train_raw, X_test_raw, y_train, y_test = train_test_split(text,result)\n",
    "\n",
    "print(\"Ví dụ dữ liệu X_train_raw: \")\n",
    "for index in range(10):\n",
    "    print(X_train_raw[index])\n",
    "\n",
    "print(\"Ví dụ dữ liệu y_train: \")\n",
    "for index in range(10):\n",
    "    print(y_train[index])\n",
    "\n",
    "print(\"Ví dụ dữ liệu X_test_raw: \")\n",
    "for index in range(10):\n",
    "    print(X_test_raw[index])\n",
    "\n",
    "print(\"Ví dụ dữ liệu y_test: \")\n",
    "for index in range(10):\n",
    "    print(y_test[index])"
   ]
  },
  {
   "cell_type": "code",
   "execution_count": 3,
   "metadata": {},
   "outputs": [
    {
     "name": "stdout",
     "output_type": "stream",
     "text": [
      "Ví dụ dữ liệu X_train: \n",
      "  (0, 5792)\t0.716202701948131\n",
      "  (0, 836)\t0.2610951381860289\n",
      "  (0, 5438)\t0.556936056440298\n",
      "  (0, 3410)\t0.32970478852231494\n",
      "Ví dụ dữ liệu X_test: \n",
      "  (0, 3290)\t0.41902116132741457\n",
      "  (0, 2868)\t0.9079764679548831\n"
     ]
    }
   ],
   "source": [
    "'''\n",
    "Xây dựng các vector\n",
    "return n sample and n feauture\n",
    "'''\n",
    "vectorizer = TfidfVectorizer()\n",
    "X_train = vectorizer.fit_transform(X_train_raw)\n",
    "X_test = vectorizer.transform(X_test_raw)\n",
    "\n",
    "print(\"Ví dụ dữ liệu X_train: \")\n",
    "for index in range(1):\n",
    "    print(X_train[index])\n",
    "\n",
    "print(\"Ví dụ dữ liệu X_test: \")\n",
    "for index in range(1):\n",
    "    print(X_test[index])"
   ]
  },
  {
   "cell_type": "code",
   "execution_count": 4,
   "metadata": {},
   "outputs": [
    {
     "name": "stdout",
     "output_type": "stream",
     "text": [
      "Độ chính xác trong test data: \n",
      "Accuracy: 97.50215331610681\n"
     ]
    }
   ],
   "source": [
    "# model creation and training\n",
    "classifier = LogisticRegression()\n",
    "classifier.fit(X_train, y_train)\n",
    "predictions = classifier.predict(X_test)\n",
    "\n",
    "print(\"Độ chính xác trong test data: \")\n",
    "\n",
    "score = classifier.score(X_test, y_test)\n",
    "print(\"Accuracy:\", score*100)\n",
    "\n"
   ]
  },
  {
   "cell_type": "code",
   "execution_count": 6,
   "metadata": {},
   "outputs": [],
   "source": [
    "#https://github.com/scikit-learn/scikit-learn/blob/7a636f0cc5f63aaab2d0e556fec46989465934aa/sklearn/feature_extraction/text.py#L1140\n",
    "\n",
    "#https://scikit-learn.org/stable/modules/generated/sklearn.linear_model.LogisticRegression.html\n",
    "\n",
    "#https://www.csie.ntu.edu.tw/~cjlin/papers/maxent_dual.pdf\n",
    "\n",
    "#http://viet.jnlp.org/kien-thuc-co-ban-ve-xu-ly-ngon-ngu-tu-nhien/machine-learning-trong-nlp/thuat-toan-entropy-cuc-dai\n"
   ]
  },
  {
   "cell_type": "code",
   "execution_count": null,
   "metadata": {},
   "outputs": [],
   "source": []
  }
 ],
 "metadata": {
  "kernelspec": {
   "display_name": "Python 3",
   "language": "python",
   "name": "python3"
  },
  "language_info": {
   "codemirror_mode": {
    "name": "ipython",
    "version": 3
   },
   "file_extension": ".py",
   "mimetype": "text/x-python",
   "name": "python",
   "nbconvert_exporter": "python",
   "pygments_lexer": "ipython3",
   "version": "3.6.8"
  }
 },
 "nbformat": 4,
 "nbformat_minor": 2
}
